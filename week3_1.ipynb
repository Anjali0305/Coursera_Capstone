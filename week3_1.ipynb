{
  "nbformat": 4,
  "nbformat_minor": 0,
  "metadata": {
    "colab": {
      "name": "week3-1.ipynb",
      "provenance": []
    },
    "kernelspec": {
      "name": "python3",
      "display_name": "Python 3"
    }
  },
  "cells": [
    {
      "cell_type": "code",
      "metadata": {
        "colab": {
          "base_uri": "https://localhost:8080/"
        },
        "id": "5ZClugUr1HZi",
        "outputId": "ede52861-f271-4487-8179-16e3f74d2948"
      },
      "source": [
        "from geopy.geocoders import Nominatim # convert an address into latitude and longitude values\r\n",
        "import geopy\r\n",
        "\r\n",
        "import numpy as np # library to handle data in a vectorized manner\r\n",
        "\r\n",
        "import pandas as pd # library for data analsysis\r\n",
        "pd.set_option('display.max_columns', None)\r\n",
        "pd.set_option('display.max_rows', None)\r\n",
        "\r\n",
        "import json # library to handle JSON files\r\n",
        "\r\n",
        "import requests # library to handle requests \r\n",
        "from pandas.io.json import json_normalize # tranform JSON file into a pandas dataframe\r\n",
        "\r\n",
        "# Matplotlib and associated plotting modules\r\n",
        "import matplotlib.cm as cm\r\n",
        "import matplotlib.colors as colors\r\n",
        "\r\n",
        "# import k-means from clustering stage\r\n",
        "from sklearn.cluster import KMeans\r\n",
        "\r\n",
        "import folium # map rendering library\r\n",
        "\r\n",
        "!pip install ipython-beautifulsoup\r\n",
        "from bs4 import BeautifulSoup\r\n",
        "from urllib.request import urlopen\r\n",
        "\r\n",
        "print('Done importing')"
      ],
      "execution_count": 1,
      "outputs": [
        {
          "output_type": "stream",
          "text": [
            "Collecting ipython-beautifulsoup\n",
            "  Downloading https://files.pythonhosted.org/packages/e8/3f/6bc064a5bde8256ef78f747f142be72f44252fbe6135ab9d2d11e1c7cb8c/ipython_beautifulsoup-0.3-py2.py3-none-any.whl\n",
            "Requirement already satisfied: beautifulsoup4 in /usr/local/lib/python3.6/dist-packages (from ipython-beautifulsoup) (4.6.3)\n",
            "Requirement already satisfied: ipython in /usr/local/lib/python3.6/dist-packages (from ipython-beautifulsoup) (5.5.0)\n",
            "Requirement already satisfied: pygments in /usr/local/lib/python3.6/dist-packages (from ipython-beautifulsoup) (2.6.1)\n",
            "Requirement already satisfied: prompt-toolkit<2.0.0,>=1.0.4 in /usr/local/lib/python3.6/dist-packages (from ipython->ipython-beautifulsoup) (1.0.18)\n",
            "Requirement already satisfied: setuptools>=18.5 in /usr/local/lib/python3.6/dist-packages (from ipython->ipython-beautifulsoup) (53.0.0)\n",
            "Requirement already satisfied: pexpect; sys_platform != \"win32\" in /usr/local/lib/python3.6/dist-packages (from ipython->ipython-beautifulsoup) (4.8.0)\n",
            "Requirement already satisfied: simplegeneric>0.8 in /usr/local/lib/python3.6/dist-packages (from ipython->ipython-beautifulsoup) (0.8.1)\n",
            "Requirement already satisfied: pickleshare in /usr/local/lib/python3.6/dist-packages (from ipython->ipython-beautifulsoup) (0.7.5)\n",
            "Requirement already satisfied: decorator in /usr/local/lib/python3.6/dist-packages (from ipython->ipython-beautifulsoup) (4.4.2)\n",
            "Requirement already satisfied: traitlets>=4.2 in /usr/local/lib/python3.6/dist-packages (from ipython->ipython-beautifulsoup) (4.3.3)\n",
            "Requirement already satisfied: six>=1.9.0 in /usr/local/lib/python3.6/dist-packages (from prompt-toolkit<2.0.0,>=1.0.4->ipython->ipython-beautifulsoup) (1.15.0)\n",
            "Requirement already satisfied: wcwidth in /usr/local/lib/python3.6/dist-packages (from prompt-toolkit<2.0.0,>=1.0.4->ipython->ipython-beautifulsoup) (0.2.5)\n",
            "Requirement already satisfied: ptyprocess>=0.5 in /usr/local/lib/python3.6/dist-packages (from pexpect; sys_platform != \"win32\"->ipython->ipython-beautifulsoup) (0.7.0)\n",
            "Requirement already satisfied: ipython-genutils in /usr/local/lib/python3.6/dist-packages (from traitlets>=4.2->ipython->ipython-beautifulsoup) (0.2.0)\n",
            "Installing collected packages: ipython-beautifulsoup\n",
            "Successfully installed ipython-beautifulsoup-0.3\n",
            "Done importing\n"
          ],
          "name": "stdout"
        }
      ]
    },
    {
      "cell_type": "code",
      "metadata": {
        "id": "aVJFxBuq14T7"
      },
      "source": [
        "url = 'https://en.wikipedia.org/wiki/List_of_postal_codes_of_Canada:_M'\r\n",
        "page = urlopen(url).read().decode('utf-8')\r\n",
        "soup = BeautifulSoup(page, 'html.parser')\r\n",
        "\r\n",
        "wiki_table = soup.body.table.tbody"
      ],
      "execution_count": 3,
      "outputs": []
    },
    {
      "cell_type": "code",
      "metadata": {
        "id": "0l_MX7kD2KmV"
      },
      "source": [
        "def get_cell(element):\r\n",
        "    cells = element.find_all('td')\r\n",
        "    row = []\r\n",
        "    \r\n",
        "    for cell in cells:\r\n",
        "        if cell.a:            \r\n",
        "            if (cell.a.text):\r\n",
        "                row.append(cell.a.text)\r\n",
        "                continue\r\n",
        "        row.append(cell.string.strip())\r\n",
        "        \r\n",
        "    return row"
      ],
      "execution_count": 4,
      "outputs": []
    },
    {
      "cell_type": "code",
      "metadata": {
        "id": "JACrrHzT2QF_"
      },
      "source": [
        "def get_row():    \r\n",
        "    data = []  \r\n",
        "    \r\n",
        "    for tr in wiki_table.find_all('tr'):\r\n",
        "        row = get_cell(tr)\r\n",
        "        if len(row) != 3:\r\n",
        "            continue\r\n",
        "        data.append(row)        \r\n",
        "    \r\n",
        "    return data"
      ],
      "execution_count": 5,
      "outputs": []
    },
    {
      "cell_type": "code",
      "metadata": {
        "colab": {
          "base_uri": "https://localhost:8080/",
          "height": 195
        },
        "id": "9CQgRAbf2R-g",
        "outputId": "02a54596-fe20-4d7f-a94d-e22bb7a7123a"
      },
      "source": [
        "data = get_row()\r\n",
        "columns = ['PostalCode', 'Borough', 'Neighbourhood']\r\n",
        "df = pd.DataFrame(data, columns=columns)\r\n",
        "df.head()"
      ],
      "execution_count": 6,
      "outputs": [
        {
          "output_type": "execute_result",
          "data": {
            "text/html": [
              "<div>\n",
              "<style scoped>\n",
              "    .dataframe tbody tr th:only-of-type {\n",
              "        vertical-align: middle;\n",
              "    }\n",
              "\n",
              "    .dataframe tbody tr th {\n",
              "        vertical-align: top;\n",
              "    }\n",
              "\n",
              "    .dataframe thead th {\n",
              "        text-align: right;\n",
              "    }\n",
              "</style>\n",
              "<table border=\"1\" class=\"dataframe\">\n",
              "  <thead>\n",
              "    <tr style=\"text-align: right;\">\n",
              "      <th></th>\n",
              "      <th>PostalCode</th>\n",
              "      <th>Borough</th>\n",
              "      <th>Neighbourhood</th>\n",
              "    </tr>\n",
              "  </thead>\n",
              "  <tbody>\n",
              "    <tr>\n",
              "      <th>0</th>\n",
              "      <td>M1A</td>\n",
              "      <td>Not assigned</td>\n",
              "      <td>Not assigned</td>\n",
              "    </tr>\n",
              "    <tr>\n",
              "      <th>1</th>\n",
              "      <td>M2A</td>\n",
              "      <td>Not assigned</td>\n",
              "      <td>Not assigned</td>\n",
              "    </tr>\n",
              "    <tr>\n",
              "      <th>2</th>\n",
              "      <td>M3A</td>\n",
              "      <td>North York</td>\n",
              "      <td>Parkwoods</td>\n",
              "    </tr>\n",
              "    <tr>\n",
              "      <th>3</th>\n",
              "      <td>M4A</td>\n",
              "      <td>North York</td>\n",
              "      <td>Victoria Village</td>\n",
              "    </tr>\n",
              "    <tr>\n",
              "      <th>4</th>\n",
              "      <td>M5A</td>\n",
              "      <td>Downtown Toronto</td>\n",
              "      <td>Regent Park, Harbourfront</td>\n",
              "    </tr>\n",
              "  </tbody>\n",
              "</table>\n",
              "</div>"
            ],
            "text/plain": [
              "  PostalCode           Borough              Neighbourhood\n",
              "0        M1A      Not assigned               Not assigned\n",
              "1        M2A      Not assigned               Not assigned\n",
              "2        M3A        North York                  Parkwoods\n",
              "3        M4A        North York           Victoria Village\n",
              "4        M5A  Downtown Toronto  Regent Park, Harbourfront"
            ]
          },
          "metadata": {
            "tags": []
          },
          "execution_count": 6
        }
      ]
    },
    {
      "cell_type": "code",
      "metadata": {
        "colab": {
          "base_uri": "https://localhost:8080/"
        },
        "id": "jG-hhaoP2ZyX",
        "outputId": "634fd6ba-890c-4b4e-c256-559552cfe3a4"
      },
      "source": [
        "df.shape"
      ],
      "execution_count": 7,
      "outputs": [
        {
          "output_type": "execute_result",
          "data": {
            "text/plain": [
              "(180, 3)"
            ]
          },
          "metadata": {
            "tags": []
          },
          "execution_count": 7
        }
      ]
    },
    {
      "cell_type": "code",
      "metadata": {
        "colab": {
          "base_uri": "https://localhost:8080/",
          "height": 195
        },
        "id": "7G6HetZ32fQ5",
        "outputId": "50075538-528d-4eff-9755-b5fc4e72b876"
      },
      "source": [
        "df1 = df[df.Borough != 'Not assigned']\r\n",
        "df1 = df1.sort_values(by=['PostalCode','Borough'])\r\n",
        "\r\n",
        "df1.reset_index(inplace=True)\r\n",
        "df1.drop('index',axis=1,inplace=True)\r\n",
        "\r\n",
        "df1.head()"
      ],
      "execution_count": 8,
      "outputs": [
        {
          "output_type": "execute_result",
          "data": {
            "text/html": [
              "<div>\n",
              "<style scoped>\n",
              "    .dataframe tbody tr th:only-of-type {\n",
              "        vertical-align: middle;\n",
              "    }\n",
              "\n",
              "    .dataframe tbody tr th {\n",
              "        vertical-align: top;\n",
              "    }\n",
              "\n",
              "    .dataframe thead th {\n",
              "        text-align: right;\n",
              "    }\n",
              "</style>\n",
              "<table border=\"1\" class=\"dataframe\">\n",
              "  <thead>\n",
              "    <tr style=\"text-align: right;\">\n",
              "      <th></th>\n",
              "      <th>PostalCode</th>\n",
              "      <th>Borough</th>\n",
              "      <th>Neighbourhood</th>\n",
              "    </tr>\n",
              "  </thead>\n",
              "  <tbody>\n",
              "    <tr>\n",
              "      <th>0</th>\n",
              "      <td>M1B</td>\n",
              "      <td>Scarborough</td>\n",
              "      <td>Malvern, Rouge</td>\n",
              "    </tr>\n",
              "    <tr>\n",
              "      <th>1</th>\n",
              "      <td>M1C</td>\n",
              "      <td>Scarborough</td>\n",
              "      <td>Rouge Hill, Port Union, Highland Creek</td>\n",
              "    </tr>\n",
              "    <tr>\n",
              "      <th>2</th>\n",
              "      <td>M1E</td>\n",
              "      <td>Scarborough</td>\n",
              "      <td>Guildwood, Morningside, West Hill</td>\n",
              "    </tr>\n",
              "    <tr>\n",
              "      <th>3</th>\n",
              "      <td>M1G</td>\n",
              "      <td>Scarborough</td>\n",
              "      <td>Woburn</td>\n",
              "    </tr>\n",
              "    <tr>\n",
              "      <th>4</th>\n",
              "      <td>M1H</td>\n",
              "      <td>Scarborough</td>\n",
              "      <td>Cedarbrae</td>\n",
              "    </tr>\n",
              "  </tbody>\n",
              "</table>\n",
              "</div>"
            ],
            "text/plain": [
              "  PostalCode      Borough                           Neighbourhood\n",
              "0        M1B  Scarborough                          Malvern, Rouge\n",
              "1        M1C  Scarborough  Rouge Hill, Port Union, Highland Creek\n",
              "2        M1E  Scarborough       Guildwood, Morningside, West Hill\n",
              "3        M1G  Scarborough                                  Woburn\n",
              "4        M1H  Scarborough                               Cedarbrae"
            ]
          },
          "metadata": {
            "tags": []
          },
          "execution_count": 8
        }
      ]
    },
    {
      "cell_type": "code",
      "metadata": {
        "id": "m3PTOOd13p5A"
      },
      "source": [
        "df_postcodes = df1['PostalCode']\r\n",
        "df_postcodes.drop_duplicates(inplace=True)\r\n",
        "df2 = pd.DataFrame(df_postcodes)\r\n",
        "df2['Borough'] = '';\r\n",
        "df2['Neighbourhood'] = '';\r\n",
        "\r\n",
        "\r\n",
        "df2.reset_index(inplace=True)\r\n",
        "df2.drop('index', axis=1, inplace=True)\r\n",
        "df1.reset_index(inplace=True)\r\n",
        "df1.drop('index', axis=1, inplace=True)\r\n",
        "\r\n",
        "for i in df2.index:\r\n",
        "    for j in df1.index:\r\n",
        "        if df2.iloc[i, 0] == df1.iloc[j, 0]:\r\n",
        "            df2.iloc[i, 1] = df1.iloc[j, 1]\r\n",
        "            df2.iloc[i, 2] = df2.iloc[i, 2] + ',' + df1.iloc[j, 2]\r\n",
        "            \r\n",
        "for i in df2.index:\r\n",
        "    s = df2.iloc[i, 2]\r\n",
        "    if s[0] == ',':\r\n",
        "        s =s [1:]\r\n",
        "    df2.iloc[i,2 ] = s"
      ],
      "execution_count": 9,
      "outputs": []
    },
    {
      "cell_type": "code",
      "metadata": {
        "colab": {
          "base_uri": "https://localhost:8080/"
        },
        "id": "GTGPB0_S3vLd",
        "outputId": "4f613e10-b5ca-4d19-e58f-5cf1a04c5a75"
      },
      "source": [
        "df2.shape"
      ],
      "execution_count": 10,
      "outputs": [
        {
          "output_type": "execute_result",
          "data": {
            "text/plain": [
              "(103, 3)"
            ]
          },
          "metadata": {
            "tags": []
          },
          "execution_count": 10
        }
      ]
    },
    {
      "cell_type": "code",
      "metadata": {
        "id": "kUupsIr13w0N"
      },
      "source": [
        ""
      ],
      "execution_count": null,
      "outputs": []
    }
  ]
}